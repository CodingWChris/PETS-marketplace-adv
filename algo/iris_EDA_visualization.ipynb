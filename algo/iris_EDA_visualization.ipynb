import pandas as pd
import seaborn as sns
import matplotlib.pyplot as plt
import plotly.express as px
from sklearn.datasets import load_iris

# Load the Iris dataset
iris = load_iris()
data = pd.DataFrame(
    iris.data, columns=iris.feature_names
)
data['species'] = pd.Categorical.from_codes(iris.target, iris.target_names)

# Rename columns for clarity
data.columns = ['sepal_length', 'sepal_width', 'petal_length', 'petal_width', 'species']

# Display basic info
print("Dataset Overview:")
print(data.info())
print("\nSample Data:")
print(data.head())

# Summary statistics
print("\nSummary Statistics:")
print(data.describe())

# Check for missing values
print("\nMissing Values:")
print(data.isnull().sum())

# Pairplot for overall relationship visualization
sns.pairplot(data, hue="species", diag_kind="kde", palette="husl")
plt.suptitle("Pairplot of Iris Dataset", y=1.02)
plt.show()

# Correlation heatmap
plt.figure(figsize=(10, 6))
sns.heatmap(data.corr(), annot=True, cmap='coolwarm', fmt=".2f")
plt.title("Correlation Heatmap")
plt.show()

# Boxplots to examine feature distributions
plt.figure(figsize=(14, 8))
for i, col in enumerate(['sepal_length', 'sepal_width', 'petal_length', 'petal_width'], 1):
    plt.subplot(2, 2, i)
    sns.boxplot(x="species", y=col, data=data, palette="Set2")
    plt.title(f"Boxplot of {col} by Species")
    plt.tight_layout()
plt.show()

# Distribution plots for each feature
plt.figure(figsize=(14, 10))
for i, col in enumerate(['sepal_length', 'sepal_width', 'petal_length', 'petal_width'], 1):
    plt.subplot(2, 2, i)
    sns.histplot(data, x=col, hue="species", kde=True, element="step", palette="husl")
    plt.title(f"Distribution of {col}")
    plt.tight_layout()
plt.show()

# Interactive scatter plots with Plotly
fig = px.scatter_matrix(
    data,
    dimensions=['sepal_length', 'sepal_width', 'petal_length', 'petal_width'],
    color='species',
    title="Scatter Matrix (Interactive)",
    labels={'species': 'Species'},
    height=700
)
fig.update_traces(diagonal_visible=False)
fig.show()

# Violin plots to show distributions and density
plt.figure(figsize=(14, 10))
for i, col in enumerate(['sepal_length', 'sepal_width', 'petal_length', 'petal_width'], 1):
    plt.subplot(2, 2, i)
    sns.violinplot(x="species", y=col, data=data, palette="muted", split=True)
    plt.title(f"Violin Plot of {col} by Species")
    plt.tight_layout()
plt.show()

# Pairwise t-SNE visualization for dimensionality reduction
from sklearn.manifold import TSNE

tsne = TSNE(n_components=2, random_state=42, perplexity=30)
tsne_result = tsne.fit_transform(data.iloc[:, :-1])

tsne_df = pd.DataFrame(tsne_result, columns=['TSNE_1', 'TSNE_2'])
tsne_df['species'] = data['species']

plt.figure(figsize=(8, 6))
sns.scatterplot(data=tsne_df, x="TSNE_1", y="TSNE_2", hue="species", palette="deep", s=100)
plt.title("t-SNE Visualization")
plt.show()

# Print insights
print("\nInsights:")
print("1. Petal length and petal width are highly correlated with each other.")
print("2. Setosa species is well-separated in terms of petal features.")
print("3. Versicolor and Virginica show overlapping distributions, especially in petal width.")